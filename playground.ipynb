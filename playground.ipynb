{
 "cells": [
  {
   "cell_type": "code",
   "execution_count": 1,
   "metadata": {},
   "outputs": [],
   "source": [
    "import numpy as np\n",
    "import itertools\n",
    "import matplotlib.pyplot as plt"
   ]
  },
  {
   "cell_type": "code",
   "execution_count": 68,
   "metadata": {},
   "outputs": [],
   "source": [
    "import matplotlib\n",
    "del matplotlib.font_manager.weight_dict['roman']\n",
    "matplotlib.font_manager._rebuild()"
   ]
  },
  {
   "cell_type": "code",
   "execution_count": 2,
   "metadata": {},
   "outputs": [
    {
     "data": {
      "text/plain": [
       "array([1.        , 0.        , 1.        , 0.5       , 0.66666667])"
      ]
     },
     "execution_count": 2,
     "metadata": {},
     "output_type": "execute_result"
    }
   ],
   "source": [
    "a = np.array([0,0,0,1,2], dtype=np.float)\n",
    "b = np.array([0,1,0,1,1], dtype=np.float)\n",
    "np.divide(a, a+b, out=np.ones_like(a), where=(a+b)!=0)"
   ]
  },
  {
   "cell_type": "code",
   "execution_count": 3,
   "metadata": {},
   "outputs": [
    {
     "data": {
      "text/plain": [
       "1"
      ]
     },
     "execution_count": 3,
     "metadata": {},
     "output_type": "execute_result"
    }
   ],
   "source": [
    "np.array([1,2,4,3,1]).argsort()[::-1][2]"
   ]
  },
  {
   "cell_type": "code",
   "execution_count": 4,
   "metadata": {},
   "outputs": [
    {
     "data": {
      "text/plain": [
       "array([1, 3])"
      ]
     },
     "execution_count": 4,
     "metadata": {},
     "output_type": "execute_result"
    }
   ],
   "source": [
    "np.array([[1,2,4,3,1],[2,4,1,3,5]]).argsort()[:,::-1][:,2]"
   ]
  },
  {
   "cell_type": "code",
   "execution_count": 25,
   "metadata": {},
   "outputs": [],
   "source": [
    "result = np.array([\n",
    "    [[3,1,1],\n",
    "     [2,2,1],\n",
    "     [3,2,1],\n",
    "     [2,5,1]],\n",
    "    [[2,1,1],\n",
    "     [6,2,1],\n",
    "     [1,0,1],\n",
    "     [1,1,1]]\n",
    "], dtype=np.float)"
   ]
  },
  {
   "cell_type": "code",
   "execution_count": 26,
   "metadata": {},
   "outputs": [
    {
     "name": "stdout",
     "output_type": "stream",
     "text": [
      "[6.78661579 6.41274915]\n",
      "[[1.         0.18329582 0.36131961 0.04281235]\n",
      " [0.11793955 0.20125404 1.         0.04050319]]\n"
     ]
    }
   ],
   "source": [
    "num_players = result.shape[0]\n",
    "num_arms = result.shape[1]\n",
    "# Experienced average for each player. 1 if each machine has never been pulled.\n",
    "experienced_average = np.divide(result[:,:,0], result[:,:,0]+result[:,:,1], out=np.ones_like(result[:,:,0]), where=(result[:,:,0]+result[:,:,1])!=0)\n",
    "beta_list = np.pi * (result[:,:,0]+result[:,:,1]+2) * np.sqrt((result[:,:,0]+result[:,:,1]+3)/(6*(result[:,:,0]+1)*(result[:,:,1]+1)))\n",
    "# Optimal beta for each player.\n",
    "beta = beta_list[range(num_players), experienced_average.argsort()[:,::-1][:,num_players]]\n",
    "preference = experienced_average * beta.reshape(num_players, 1)\n",
    "preference -= preference.max(axis=1).reshape(-1,1)\n",
    "preference = np.exp(preference)\n",
    "print(beta)\n",
    "print(preference)"
   ]
  },
  {
   "cell_type": "code",
   "execution_count": 44,
   "metadata": {},
   "outputs": [],
   "source": [
    "selection_prob = np.zeros((num_players, num_arms))\n",
    "all_permutations = list(itertools.permutations(range(num_arms)))\n",
    "for order in all_permutations:\n",
    "    tmp_pref = preference.copy()\n",
    "    tmp_pref[:, order[0]] = 0\n",
    "    p = preference[:, order[0]]/preference.sum(axis=1) * preference[:, order[1]]/tmp_pref.sum(axis=1)\n",
    "    selection_prob[:, order[0]] += p/2\n",
    "    selection_prob[:, order[1]] += p/2"
   ]
  },
  {
   "cell_type": "code",
   "execution_count": 45,
   "metadata": {},
   "outputs": [
    {
     "name": "stdout",
     "output_type": "stream",
     "text": [
      "[[0.91528301 0.34925848 0.65110922 0.0843493 ]\n",
      " [0.34561831 0.57811279 0.95566088 0.12060802]]\n"
     ]
    },
    {
     "data": {
      "text/plain": [
       "array([[0.4576415 , 0.17462924, 0.32555461, 0.04217465],\n",
       "       [0.17280915, 0.28905639, 0.47783044, 0.06030401]])"
      ]
     },
     "execution_count": 45,
     "metadata": {},
     "output_type": "execute_result"
    }
   ],
   "source": [
    "print(selection_prob)\n",
    "selection_prob /= selection_prob.sum(axis=1).reshape(-1,1)\n",
    "selection_prob"
   ]
  },
  {
   "cell_type": "code",
   "execution_count": 50,
   "metadata": {},
   "outputs": [
    {
     "name": "stdout",
     "output_type": "stream",
     "text": [
      "[[0.07908464 0.1322842  0.21867504 0.02759762]\n",
      " [0.03017753 0.0504777  0.08344317 0.01053084]\n",
      " [0.05625882 0.09410364 0.1555599  0.01963225]\n",
      " [0.00728817 0.01219085 0.02015233 0.0025433 ]]\n"
     ]
    }
   ],
   "source": [
    "selections = list(itertools.product(range(num_arms), repeat=num_players))\n",
    "selection_matrix = selection_prob[range(num_players),selections].prod(1)\n",
    "selection_matrix = selection_matrix.reshape(num_arms, num_arms)\n",
    "selection_matrix /= selection_matrix.sum()\n",
    "print(selection_matrix)"
   ]
  },
  {
   "cell_type": "code",
   "execution_count": 47,
   "metadata": {},
   "outputs": [],
   "source": [
    "input_state = np.array([0, 1/12, 1/12, 1/12, 1/12, 0, 1/12, 1/12, 1/12, 1/12, 0, 1/12, 1/12, 1/12, 1/12, 0])"
   ]
  },
  {
   "cell_type": "code",
   "execution_count": 54,
   "metadata": {},
   "outputs": [],
   "source": [
    "joint_matrix = selection_matrix * input_state.reshape(num_arms, num_arms)\n",
    "joint_matrix = (joint_matrix/joint_matrix.sum()).reshape(-1,)"
   ]
  },
  {
   "cell_type": "code",
   "execution_count": 55,
   "metadata": {},
   "outputs": [
    {
     "data": {
      "text/plain": [
       "array([0.        , 0.18570519, 0.30698366, 0.0387425 , 0.04236427,\n",
       "       0.        , 0.11714043, 0.01478357, 0.07897809, 0.13210598,\n",
       "       0.        , 0.02756044, 0.01023138, 0.01711394, 0.02829055,\n",
       "       0.        ])"
      ]
     },
     "execution_count": 55,
     "metadata": {},
     "output_type": "execute_result"
    }
   ],
   "source": [
    "joint_matrix"
   ]
  },
  {
   "cell_type": "code",
   "execution_count": 2,
   "metadata": {},
   "outputs": [],
   "source": [
    "# compare_source_prob"
   ]
  },
  {
   "cell_type": "code",
   "execution_count": 17,
   "metadata": {},
   "outputs": [
    {
     "data": {
      "text/plain": [
       "840"
      ]
     },
     "execution_count": 17,
     "metadata": {},
     "output_type": "execute_result"
    }
   ],
   "source": [
    "# env\n",
    "num_arms = 7\n",
    "list(set(itertools.permutations([0.1]*(num_arms-4) + [0.3, 0.5, 0.7, 0.9])))"
   ]
  },
  {
   "cell_type": "code",
   "execution_count": 27,
   "metadata": {},
   "outputs": [],
   "source": [
    "# input_state\n",
    "N = 4"
   ]
  },
  {
   "cell_type": "code",
   "execution_count": 30,
   "metadata": {},
   "outputs": [
    {
     "data": {
      "text/plain": [
       "array([[0.     , 0.03125, 0.0625 , 0.03125],\n",
       "       [0.03125, 0.     , 0.03125, 0.0625 ],\n",
       "       [0.0625 , 0.03125, 0.     , 0.03125],\n",
       "       [0.03125, 0.0625 , 0.03125, 0.     ]])"
      ]
     },
     "execution_count": 30,
     "metadata": {},
     "output_type": "execute_result"
    }
   ],
   "source": [
    "np.power(np.sin(np.pi/N * (np.arange(4).reshape(-1,1) - np.arange(4))),2) / N**2"
   ]
  },
  {
   "cell_type": "code",
   "execution_count": 41,
   "metadata": {},
   "outputs": [
    {
     "data": {
      "text/plain": [
       "array([[0.        , 0.04166667, 0.04166667, 0.04166667],\n",
       "       [0.04166667, 0.        , 0.04166667, 0.04166667],\n",
       "       [0.04166667, 0.04166667, 0.        , 0.04166667],\n",
       "       [0.04166667, 0.04166667, 0.04166667, 0.        ]])"
      ]
     },
     "execution_count": 41,
     "metadata": {},
     "output_type": "execute_result"
    }
   ],
   "source": [
    "input = np.ones((N,N))/(2*N*(N-1))\n",
    "np.fill_diagonal(input, 0)\n",
    "input"
   ]
  },
  {
   "cell_type": "code",
   "execution_count": 34,
   "metadata": {},
   "outputs": [
    {
     "data": {
      "text/plain": [
       "0.041666666666666664"
      ]
     },
     "execution_count": 34,
     "metadata": {},
     "output_type": "execute_result"
    }
   ],
   "source": [
    "1/24"
   ]
  },
  {
   "cell_type": "code",
   "execution_count": 2,
   "metadata": {},
   "outputs": [],
   "source": [
    "# Figure\n",
    "convs = [2,2.5,3]\n",
    "ideals = [2,2.8,3]\n",
    "amps = [3,2.1,2]\n",
    "rotations = [1,2,6]"
   ]
  },
  {
   "cell_type": "code",
   "execution_count": 12,
   "metadata": {},
   "outputs": [
    {
     "data": {
      "image/png": "[encoded data removed]",
      "text/plain": [
       "<Figure size 640x480 with 1 Axes>"
      ]
     },
     "metadata": {
      "needs_background": "light"
     },
     "output_type": "display_data"
    }
   ],
   "source": [
    "plt.rcParams['font.family'] = 'Times New Roman'\n",
    "plt.rcParams['mathtext.fontset'] = 'stix'\n",
    "plt.rcParams[\"font.size\"] = 36\n",
    "plt.rcParams[\"legend.fontsize\"] = 24\n",
    "plt.rcParams['xtick.labelsize'] = 24\n",
    "plt.rcParams['ytick.labelsize'] = 24\n",
    "plt.rcParams['xtick.direction'] = 'in'\n",
    "plt.rcParams['ytick.direction'] = 'in'\n",
    "plt.rcParams['axes.linewidth'] = 1.0\n",
    "\n",
    "plt.figure(figsize=(8, 6), dpi=80)\n",
    "\n",
    "x1 = np.arange(3) + 1\n",
    "x2 = x1 + 0.2\n",
    "x3 = x2 + 0.2\n",
    "x4 = x3 + 0.2\n",
    "label_x = [4,5,6]\n",
    "\n",
    "plt.bar(x1, convs, width=0.2, label='Conv.', align=\"center\")\n",
    "plt.bar(x2, amps, width=0.2, label='AEM', align=\"center\")\n",
    "plt.bar(x3, rotations, width=0.2, label='PSM', align=\"center\")\n",
    "plt.bar(x4, ideals, width=0.2, label='Ideal', align=\"center\")\n",
    "# 凡例\n",
    "plt.legend(loc='best')\n",
    "\n",
    "plt.rcParams[\"font.size\"] = 18\n",
    "# plt.tight_layout()\n",
    "# plt.tick_params(labelsize=24)\n",
    "plt.xlabel('Number of machines $N$')\n",
    "plt.ylabel('Average reward')\n",
    "plt.xticks([1.3, 2.3, 3.3], label_x)\n",
    "plt.savefig('test.pdf', bbox_inches=\"tight\", pad_inches=0.05)"
   ]
  },
  {
   "cell_type": "code",
   "execution_count": 2,
   "metadata": {},
   "outputs": [],
   "source": [
    "# rotate input\n",
    "def generate_input(num_arms, method='conv'):\n",
    "    if method == 'conv' or method == 'psm':\n",
    "        input_state = np.power(np.sin(np.pi/num_arms * (np.arange(num_arms).reshape(-1,1) - np.arange(num_arms))),2) / num_arms**2\n",
    "    elif method == 'aem':\n",
    "        pass\n",
    "    elif method == 'ideal':\n",
    "        input_state = np.ones((num_arms,num_arms))/(2*num_arms*(num_arms-1))\n",
    "        np.fill_diagonal(input_state, 0)\n",
    "    return input_state\n",
    "input_state = generate_input(4, 'psm')"
   ]
  },
  {
   "cell_type": "code",
   "execution_count": 24,
   "metadata": {},
   "outputs": [
    {
     "data": {
      "text/plain": [
       "array([[0.     , 0.03125, 0.03125, 0.0625 ],\n",
       "       [0.03125, 0.     , 0.0625 , 0.03125],\n",
       "       [0.03125, 0.0625 , 0.     , 0.03125],\n",
       "       [0.0625 , 0.03125, 0.03125, 0.     ]])"
      ]
     },
     "execution_count": 24,
     "metadata": {},
     "output_type": "execute_result"
    }
   ],
   "source": [
    "num_arms = 4\n",
    "rng = np.random.default_rng()\n",
    "permute = rng.permutation(4)\n",
    "np.power(np.sin(np.pi/num_arms * (permute.reshape(-1,1) - permute)),2) / num_arms**2"
   ]
  },
  {
   "cell_type": "code",
   "execution_count": 3,
   "metadata": {},
   "outputs": [
    {
     "data": {
      "text/plain": [
       "array([[0.     , 0.03125, 0.0625 , 0.03125],\n",
       "       [0.03125, 0.     , 0.03125, 0.0625 ],\n",
       "       [0.0625 , 0.03125, 0.     , 0.03125],\n",
       "       [0.03125, 0.0625 , 0.03125, 0.     ]])"
      ]
     },
     "execution_count": 3,
     "metadata": {},
     "output_type": "execute_result"
    }
   ],
   "source": [
    "input_state"
   ]
  },
  {
   "cell_type": "code",
   "execution_count": 18,
   "metadata": {},
   "outputs": [
    {
     "data": {
      "text/plain": [
       "array([1, 3, 2, 0])"
      ]
     },
     "execution_count": 18,
     "metadata": {},
     "output_type": "execute_result"
    }
   ],
   "source": [
    "permute"
   ]
  },
  {
   "cell_type": "code",
   "execution_count": 19,
   "metadata": {},
   "outputs": [],
   "source": [
    "angles = np.array([0, np.pi/4,np.pi/2,np.pi*3/4])"
   ]
  },
  {
   "cell_type": "code",
   "execution_count": 25,
   "metadata": {},
   "outputs": [
    {
     "data": {
      "text/plain": [
       "array([[0.     , 0.03125, 0.03125, 0.0625 ],\n",
       "       [0.03125, 0.     , 0.0625 , 0.03125],\n",
       "       [0.03125, 0.0625 , 0.     , 0.03125],\n",
       "       [0.0625 , 0.03125, 0.03125, 0.     ]])"
      ]
     },
     "execution_count": 25,
     "metadata": {},
     "output_type": "execute_result"
    }
   ],
   "source": [
    "tmp = np.zeros((4,4))\n",
    "for i in range(4):\n",
    "    for j in range(4):\n",
    "        tmp[i,j] = np.sin(angles[permute[i]]-angles[permute[j]])**2 / 16\n",
    "tmp"
   ]
  },
  {
   "cell_type": "code",
   "execution_count": null,
   "metadata": {},
   "outputs": [],
   "source": []
  }
 ],
 "metadata": {
  "interpreter": {
   "hash": "a424f3a11069a611cd9d92329adf9a3d6751c3195149c8a556e70f4131372ae3"
  },
  "kernelspec": {
   "display_name": "Python 3.7.3 64-bit ('3.7.3': pyenv)",
   "language": "python",
   "name": "python3"
  },
  "language_info": {
   "codemirror_mode": {
    "name": "ipython",
    "version": 3
   },
   "file_extension": ".py",
   "mimetype": "text/x-python",
   "name": "python",
   "nbconvert_exporter": "python",
   "pygments_lexer": "ipython3",
   "version": "3.7.3"
  },
  "orig_nbformat": 4
 },
 "nbformat": 4,
 "nbformat_minor": 2
}
